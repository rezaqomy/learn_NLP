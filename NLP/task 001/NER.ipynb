{
 "cells": [
  {
   "cell_type": "markdown",
   "id": "c107e1b2-7e1a-486b-be43-e5bc5d08a404",
   "metadata": {},
   "source": [
    "# Named Entity Recognition (NER)"
   ]
  },
  {
   "cell_type": "code",
   "execution_count": 1,
   "id": "3bfddaa0-ae54-4071-8b19-e4e8b1178d18",
   "metadata": {},
   "outputs": [
    {
     "name": "stderr",
     "output_type": "stream",
     "text": [
      "[nltk_data] Downloading package wordnet to /home/reza/nltk_data...\n",
      "[nltk_data]   Package wordnet is already up-to-date!\n",
      "[nltk_data] Downloading package words to /home/reza/nltk_data...\n",
      "[nltk_data]   Package words is already up-to-date!\n",
      "[nltk_data] Downloading package averaged_perceptron_tagger to\n",
      "[nltk_data]     /home/reza/nltk_data...\n",
      "[nltk_data]   Package averaged_perceptron_tagger is already up-to-\n",
      "[nltk_data]       date!\n",
      "[nltk_data] Downloading package punkt to /home/reza/nltk_data...\n",
      "[nltk_data]   Package punkt is already up-to-date!\n",
      "[nltk_data] Downloading package maxent_ne_chunker to\n",
      "[nltk_data]     /home/reza/nltk_data...\n",
      "[nltk_data]   Package maxent_ne_chunker is already up-to-date!\n"
     ]
    },
    {
     "data": {
      "text/plain": [
       "True"
      ]
     },
     "execution_count": 1,
     "metadata": {},
     "output_type": "execute_result"
    }
   ],
   "source": [
    "import nltk\n",
    "from collections import Counter\n",
    "nltk.download('wordnet')\n",
    "from nltk.tokenize import word_tokenize\n",
    "from nltk import word_tokenize, pos_tag, ne_chunk\n",
    "nltk.download('words')\n",
    "nltk.download('averaged_perceptron_tagger')\n",
    "nltk.download('punkt')\n",
    "nltk.download('maxent_ne_chunker')"
   ]
  },
  {
   "cell_type": "code",
   "execution_count": 2,
   "id": "61e0c5a7-abb3-4372-93f3-5ecc0f913d76",
   "metadata": {},
   "outputs": [],
   "source": [
    "example_text = \"Avengers: Endgame is a 2019 American superhero film based on the Marvel Comics superhero team the Avengers, produced by Marvel Studios and distributed by Walt Disney Studios Motion Pictures. The movie features an ensemble cast including Robert Downey Jr., Chris Evans, Mark Ruffalo, Chris Hemsworth, and others. (Source: wikipedia).\""
   ]
  },
  {
   "cell_type": "markdown",
   "id": "1ed03b9c-0b07-4362-84e0-1878d50622e9",
   "metadata": {},
   "source": [
    "### the tokenization and POS tagging"
   ]
  },
  {
   "cell_type": "code",
   "execution_count": 3,
   "id": "727d0dd8-9a55-4370-b9e4-571fa58b11d0",
   "metadata": {},
   "outputs": [],
   "source": [
    "tokenized_words = word_tokenize(example_text)\n",
    "\n",
    "pos_tagging_words = pos_tag(tokenized_words)\n"
   ]
  },
  {
   "cell_type": "markdown",
   "id": "ca5ef6d4-537e-4d54-86cd-896866a57664",
   "metadata": {},
   "source": [
    "### the chunking "
   ]
  },
  {
   "cell_type": "code",
   "execution_count": 4,
   "id": "033104bb-cc1a-4224-ab0b-660b15ad152d",
   "metadata": {},
   "outputs": [
    {
     "name": "stdout",
     "output_type": "stream",
     "text": [
      "  Avengers/NNS\n",
      "  Endgame/NN\n",
      "  superhero/NN\n",
      "  film/NN\n",
      "  (ORGANIZATION Marvel/NNP Comics/NNP)\n",
      "  superhero/NN\n",
      "  team/NN\n",
      "  (ORGANIZATION Avengers/NNPS)\n",
      "  (PERSON Marvel/NNP Studios/NNP)\n",
      "  (PERSON Walt/NNP Disney/NNP Studios/NNP)\n",
      "  Motion/NNP\n",
      "  Pictures/NNP\n",
      "  movie/NN\n",
      "  cast/NN\n",
      "  (PERSON Robert/NNP Downey/NNP Jr./NNP)\n",
      "  (PERSON Chris/NNP Evans/NNP)\n",
      "  (PERSON Mark/NNP Ruffalo/NNP)\n",
      "  (PERSON Chris/NNP Hemsworth/NNP)\n",
      "  others/NNS\n",
      "  (PERSON Source/NN)\n",
      "  wikipedia/NN\n"
     ]
    }
   ],
   "source": [
    "chunked = ne_chunk(pos_tagging_words)\n",
    "for word in str(chunked).split('\\n'):\n",
    "    if '/NN' in word:\n",
    "        print(word)"
   ]
  },
  {
   "cell_type": "markdown",
   "id": "52ff23a0-1f7c-4a81-818b-4382d60bf935",
   "metadata": {},
   "source": [
    "#### the NER in persian"
   ]
  },
  {
   "cell_type": "code",
   "execution_count": 5,
   "id": "10e377e9-5bb8-4485-9812-0bd1c247951f",
   "metadata": {},
   "outputs": [],
   "source": [
    "from hazm import WordTokenizer\n",
    "from hazm import Normalizer\n",
    "from hazm import Chunker\n",
    "from hazm import POSTagger\n",
    "from hazm import tree2brackets"
   ]
  },
  {
   "cell_type": "code",
   "execution_count": 6,
   "id": "caf7aa66-9fa7-4e75-976f-e44d2e4bcbf9",
   "metadata": {},
   "outputs": [],
   "source": [
    "example_persian_sentence = \"نور خورشید به سختی از میان برگ‌های انبوه درختان کهنسال به زمین نفوذ می‌کرد و سایه‌ای خنک و دل‌انگیز بر بستر جنگل گسترانده بود.\""
   ]
  },
  {
   "cell_type": "markdown",
   "id": "9e5adf33-6ab1-44a7-81c6-8ae1c3de7778",
   "metadata": {},
   "source": [
    "### the tokenization "
   ]
  },
  {
   "cell_type": "code",
   "execution_count": 7,
   "id": "61d2c03b-13c9-4ee9-a177-fb4dd6eed75a",
   "metadata": {},
   "outputs": [],
   "source": [
    "normalizer = Normalizer()\n",
    "wordTokenizer = WordTokenizer()\n",
    "\n",
    "normalized_sentence = normalizer.normalize(example_persian_sentence)\n",
    "words = wordTokenizer.tokenize(normalized_sentence)\n"
   ]
  },
  {
   "cell_type": "markdown",
   "id": "5406e5a9-1a3e-4973-b73c-dd6d2210e1a9",
   "metadata": {},
   "source": [
    "### the POS tagging"
   ]
  },
  {
   "cell_type": "code",
   "execution_count": 10,
   "id": "76a46081-8dcd-4d08-a13e-a0f085e95a8d",
   "metadata": {},
   "outputs": [],
   "source": [
    "posTagger = POSTagger(model=\"pos_tagger.model\")\n",
    "\n",
    "tagged_words = posTagger.tag(words)\n"
   ]
  },
  {
   "cell_type": "markdown",
   "id": "02e59011-ce40-457d-a84c-f4216b51adb2",
   "metadata": {},
   "source": [
    "### the chunking"
   ]
  },
  {
   "cell_type": "code",
   "execution_count": 9,
   "id": "552a2f98-ee83-4daf-9ac6-ed8bc0e54984",
   "metadata": {},
   "outputs": [
    {
     "data": {
      "text/plain": [
       "'[نور خورشید NP] [به PP] [سختی NP] [از PP] [میان برگ\\u200cهای انبوه درختان کهنسال NP] [به PP] [زمین NP] [نفوذ می\\u200cکرد VP] و [سایه\\u200cای خنک و دل\\u200cانگیز NP] [بر PP] [بستر جنگل NP] [گسترانده_بود VP] .'"
      ]
     },
     "execution_count": 9,
     "metadata": {},
     "output_type": "execute_result"
    }
   ],
   "source": [
    "chunker = Chunker(model=\"chunker.model\")\n",
    "\n",
    "chunked = tree2brackets(chunker.parse(tagged_words))\n",
    "chunked\n"
   ]
  }
 ],
 "metadata": {
  "kernelspec": {
   "display_name": "Python 3 (ipykernel)",
   "language": "python",
   "name": "python3"
  },
  "language_info": {
   "codemirror_mode": {
    "name": "ipython",
    "version": 3
   },
   "file_extension": ".py",
   "mimetype": "text/x-python",
   "name": "python",
   "nbconvert_exporter": "python",
   "pygments_lexer": "ipython3",
   "version": "3.11.6"
  }
 },
 "nbformat": 4,
 "nbformat_minor": 5
}
