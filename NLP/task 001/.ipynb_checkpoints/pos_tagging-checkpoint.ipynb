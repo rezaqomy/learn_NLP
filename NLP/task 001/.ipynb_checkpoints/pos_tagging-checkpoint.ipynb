{
 "cells": [
  {
   "cell_type": "markdown",
   "id": "e451c64b-7a9c-4dbb-8a8f-fefaf94d6e37",
   "metadata": {},
   "source": [
    "# Part-of-Speech (POS) Tagging"
   ]
  },
  {
   "cell_type": "markdown",
   "id": "57cc59ec-68ac-4125-98fe-8fd5ad0b7047",
   "metadata": {},
   "source": [
    "- pos tagging in english"
   ]
  },
  {
   "cell_type": "code",
   "execution_count": 1,
   "id": "243ce4f6-a01a-4350-8815-d974a6357262",
   "metadata": {},
   "outputs": [],
   "source": [
    "import spacy"
   ]
  },
  {
   "cell_type": "code",
   "execution_count": 2,
   "id": "4793cad1-b423-423a-875d-86e3ad6be4f5",
   "metadata": {},
   "outputs": [
    {
     "name": "stdout",
     "output_type": "stream",
     "text": [
      "PoS Tagging Result:\n",
      "SpaCy: PROPN\n",
      "is: AUX\n",
      "a: DET\n",
      "popular: ADJ\n",
      "natural: ADJ\n",
      "language: NOUN\n",
      "processing: NOUN\n",
      "library: NOUN\n",
      ".: PUNCT\n"
     ]
    }
   ],
   "source": [
    "nlp = spacy.load(\"en_core_web_sm\")\n",
    "text = \"SpaCy is a popular natural language processing library.\"\n",
    "doc = nlp(text)\n",
    "print(\"PoS Tagging Result:\")\n",
    "for token in doc:\n",
    "\tprint(f\"{token.text}: {token.pos_}\")\n"
   ]
  },
  {
   "cell_type": "markdown",
   "id": "2d160008-a7e9-4e5b-8959-d9313cbf2e46",
   "metadata": {},
   "source": [
    "- pos tagging in persian"
   ]
  },
  {
   "cell_type": "code",
   "execution_count": 3,
   "id": "145d8d7c-795a-450e-a382-8dab80341201",
   "metadata": {},
   "outputs": [],
   "source": [
    "from hazm import POSTagger\n",
    "from hazm import word_tokenize"
   ]
  },
  {
   "cell_type": "code",
   "execution_count": 4,
   "id": "04adc9c1-a588-48ec-a4c1-2a1fa4bd3146",
   "metadata": {},
   "outputs": [
    {
     "data": {
      "text/plain": [
       "[('ما', 'PRON'),\n",
       " ('بسیار', 'ADV'),\n",
       " ('کتاب', 'NOUN'),\n",
       " ('می\\u200cخوانیم', 'VERB')]"
      ]
     },
     "execution_count": 4,
     "metadata": {},
     "output_type": "execute_result"
    }
   ],
   "source": [
    "tagger = POSTagger(model='pos_tagger.model')\n",
    "tagger.tag(word_tokenize('ما بسیار کتاب می‌خوانیم'))"
   ]
  }
 ],
 "metadata": {
  "kernelspec": {
   "display_name": "Python 3 (ipykernel)",
   "language": "python",
   "name": "python3"
  },
  "language_info": {
   "codemirror_mode": {
    "name": "ipython",
    "version": 3
   },
   "file_extension": ".py",
   "mimetype": "text/x-python",
   "name": "python",
   "nbconvert_exporter": "python",
   "pygments_lexer": "ipython3",
   "version": "3.11.6"
  }
 },
 "nbformat": 4,
 "nbformat_minor": 5
}
