{
 "cells": [
  {
   "cell_type": "markdown",
   "id": "457724e2-b3a3-460b-8487-20a3657e9020",
   "metadata": {},
   "source": [
    "# Remove Stopwords\n"
   ]
  },
  {
   "cell_type": "markdown",
   "id": "b5f02202-1ed6-443c-8948-0f9fc2ae76e4",
   "metadata": {},
   "source": [
    "### the stopwords with nltk\n",
    "in the english language "
   ]
  },
  {
   "cell_type": "code",
   "execution_count": 1,
   "id": "8ef7a66f-2706-436e-a768-eb2869a1a9de",
   "metadata": {},
   "outputs": [
    {
     "name": "stderr",
     "output_type": "stream",
     "text": [
      "[nltk_data] Downloading package stopwords to /home/reza/nltk_data...\n",
      "[nltk_data]   Package stopwords is already up-to-date!\n"
     ]
    },
    {
     "data": {
      "text/plain": [
       "True"
      ]
     },
     "execution_count": 1,
     "metadata": {},
     "output_type": "execute_result"
    }
   ],
   "source": [
    "import nltk\n",
    "from nltk.corpus import stopwords\n",
    "import hazm\n",
    "persian_stopwords = hazm.stopwords_list()\n",
    "nltk.download('stopwords')"
   ]
  },
  {
   "cell_type": "markdown",
   "id": "8b3a1cfe-0212-47db-a655-6e8bbb7c6d3c",
   "metadata": {},
   "source": [
    "## define function to remove stopwords in a list of words"
   ]
  },
  {
   "cell_type": "code",
   "execution_count": 2,
   "id": "7af84f28-2955-40e6-8f72-a580a23c0281",
   "metadata": {},
   "outputs": [],
   "source": [
    "def remove_stopwords(words_list, stopwords_list):\n",
    "    return [word for word in words_list if word not in stopwords_list]"
   ]
  },
  {
   "cell_type": "markdown",
   "id": "8df26477-6abe-4220-bd15-40b85a079aa4",
   "metadata": {},
   "source": [
    "- remove stopwords in english"
   ]
  },
  {
   "cell_type": "code",
   "execution_count": 3,
   "id": "22e9ffe0-8ff6-4e8e-8db2-73a7630025c1",
   "metadata": {},
   "outputs": [
    {
     "name": "stdout",
     "output_type": "stream",
     "text": [
      "['this', 'is', 'a', 'test', 'text', '.']\n",
      "['test', 'text', '.']\n"
     ]
    }
   ],
   "source": [
    "text = \"this is a test text.\"\n",
    "words = nltk.word_tokenize(text)\n",
    "print(words)\n",
    "removed_stopwords = remove_stopwords(words, stopwords.words('english'))\n",
    "print(removed_stopwords)"
   ]
  },
  {
   "cell_type": "markdown",
   "id": "40524746-2663-4c8c-afb6-ed2062abf35d",
   "metadata": {},
   "source": [
    "- remove stopword in persian"
   ]
  },
  {
   "cell_type": "code",
   "execution_count": 4,
   "id": "4c95db36-9699-413d-ba14-e99637deddbb",
   "metadata": {},
   "outputs": [
    {
     "name": "stdout",
     "output_type": "stream",
     "text": [
      "['این', 'متن', 'برای', 'تست', 'است', '.']\n",
      "['متن', 'تست', '.']\n"
     ]
    }
   ],
   "source": [
    "text = \"این متن برای تست است.\"\n",
    "persian_tokenizer = hazm.WordTokenizer()\n",
    "words_tokenized = persian_tokenizer.tokenize(text)\n",
    "print(words_tokenized)\n",
    "remved_stopwords = remove_stopwords(words_tokenized, persian_stopwords)\n",
    "print(remved_stopwords)"
   ]
  }
 ],
 "metadata": {
  "kernelspec": {
   "display_name": "Python 3 (ipykernel)",
   "language": "python",
   "name": "python3"
  },
  "language_info": {
   "codemirror_mode": {
    "name": "ipython",
    "version": 3
   },
   "file_extension": ".py",
   "mimetype": "text/x-python",
   "name": "python",
   "nbconvert_exporter": "python",
   "pygments_lexer": "ipython3",
   "version": "3.11.6"
  }
 },
 "nbformat": 4,
 "nbformat_minor": 5
}
