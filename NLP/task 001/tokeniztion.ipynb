{
 "cells": [
  {
   "cell_type": "markdown",
   "id": "ec123a08-c14d-4230-aafb-6778e36abe6d",
   "metadata": {},
   "source": [
    "# tokeniztion"
   ]
  },
  {
   "cell_type": "markdown",
   "id": "9136ba0d-f85c-4345-8fb4-5956b763d405",
   "metadata": {},
   "source": [
    "## import the needed library for tokenizetion\n"
   ]
  },
  {
   "cell_type": "code",
   "execution_count": 2,
   "id": "dadbc122-f4a9-47c1-a042-c65f653dea77",
   "metadata": {},
   "outputs": [
    {
     "name": "stderr",
     "output_type": "stream",
     "text": [
      "[nltk_data] Downloading package punkt to /home/reza/nltk_data...\n",
      "[nltk_data]   Package punkt is already up-to-date!\n"
     ]
    },
    {
     "data": {
      "text/plain": [
       "True"
      ]
     },
     "execution_count": 2,
     "metadata": {},
     "output_type": "execute_result"
    }
   ],
   "source": [
    "import nltk \n",
    "nltk.download('punkt')"
   ]
  },
  {
   "cell_type": "markdown",
   "id": "198954f1-662b-4a19-bad6-df67f541eb34",
   "metadata": {},
   "source": [
    "### tokeniztion sentens"
   ]
  },
  {
   "cell_type": "markdown",
   "id": "3ef278a4-4191-4b58-9d6d-21a593add521",
   "metadata": {},
   "source": [
    "- the english sentence"
   ]
  },
  {
   "cell_type": "code",
   "execution_count": 10,
   "id": "37a49b55-ac03-4c0e-8421-303f201a3342",
   "metadata": {},
   "outputs": [
    {
     "name": "stdout",
     "output_type": "stream",
     "text": [
      "sentence 0: The First sentence is about Python.\n",
      "sentence 1: The Second: about Django.\n",
      "sentence 2: You can learn Python,Django and Data Ananlysis here.\n"
     ]
    }
   ],
   "source": [
    "sentence_data = \"The First sentence is about Python. The Second: about Django. You can learn Python,Django and Data Ananlysis here. \"\n",
    "nltk_tokens = nltk.sent_tokenize(sentence_data)\n",
    "for i in range(len(nltk_tokens)):\n",
    "    print(f\"sentence {i}: {nltk_tokens[i]}\")"
   ]
  },
  {
   "cell_type": "markdown",
   "id": "0862a03c-c195-4f85-a64e-575f3f4d1348",
   "metadata": {},
   "source": [
    "- the persina sentens"
   ]
  },
  {
   "cell_type": "code",
   "execution_count": 9,
   "id": "4fe70767-9f1e-4b91-8077-c8e51d6b671f",
   "metadata": {},
   "outputs": [
    {
     "name": "stdout",
     "output_type": "stream",
     "text": [
      "sentence 0: این متن برای تست است.\n",
      "sentence 1: در این متن هیچ چیز مهمی وجود ندار.\n",
      "sentence 2: این متن به هیچ دردی نمی خورد.\n"
     ]
    }
   ],
   "source": [
    "persan_text = \" این متن برای تست است. در این متن هیچ چیز مهمی وجود ندار. این متن به هیچ دردی نمی خورد.\"\n",
    "\n",
    "from hazm import SentenceTokenizer\n",
    "persin_sentence_tokenizer = SentenceTokenizer()\n",
    "sentences = persin_sentence_tokenizer.tokenize(persan_text)\n",
    "for i in range(len(sentences)):\n",
    "    print(f\"sentence {i}: {sentences[i]}\")"
   ]
  },
  {
   "cell_type": "markdown",
   "id": "032b609a-de52-447d-8c3c-0f4098887216",
   "metadata": {},
   "source": [
    "## tokeniztion words"
   ]
  },
  {
   "cell_type": "markdown",
   "id": "0259acbd-e7b5-475e-bbb7-473b974e430e",
   "metadata": {},
   "source": [
    "- the english words"
   ]
  },
  {
   "cell_type": "code",
   "execution_count": 12,
   "id": "001f1bf7-0d9f-438a-b392-2e773887313e",
   "metadata": {},
   "outputs": [
    {
     "name": "stdout",
     "output_type": "stream",
     "text": [
      "word 0: The\n",
      "word 1: First\n",
      "word 2: sentence\n",
      "word 3: is\n",
      "word 4: about\n",
      "word 5: Python\n",
      "word 6: .\n",
      "word 7: The\n",
      "word 8: Second\n",
      "word 9: :\n",
      "word 10: about\n",
      "word 11: Django\n",
      "word 12: .\n",
      "word 13: You\n",
      "word 14: can\n",
      "word 15: learn\n",
      "word 16: Python\n",
      "word 17: ,\n",
      "word 18: Django\n",
      "word 19: and\n",
      "word 20: Data\n",
      "word 21: Ananlysis\n",
      "word 22: here\n",
      "word 23: .\n"
     ]
    }
   ],
   "source": [
    "sentence_data = \"The First sentence is about Python. The Second: about Django. You can learn Python,Django and Data Ananlysis here. \"\n",
    "nltk_tokens = nltk.word_tokenize(sentence_data)\n",
    "for i in range(len(nltk_tokens)):\n",
    "    print(f\"word {i}: {nltk_tokens[i]}\")"
   ]
  },
  {
   "cell_type": "markdown",
   "id": "7891df0d-4b82-4e5b-bdb0-28a46fae5638",
   "metadata": {},
   "source": [
    "- the persian words"
   ]
  },
  {
   "cell_type": "code",
   "execution_count": 13,
   "id": "00446151-5375-4bfd-85cf-6eff73cd69c4",
   "metadata": {},
   "outputs": [
    {
     "name": "stdout",
     "output_type": "stream",
     "text": [
      "word 0 : این\n",
      "word 1 : متن\n",
      "word 2 : برای\n",
      "word 3 : تست\n",
      "word 4 : است\n",
      "word 5 : .\n",
      "word 6 : در\n",
      "word 7 : این\n",
      "word 8 : متن\n",
      "word 9 : هیچ\n",
      "word 10 : چیز\n",
      "word 11 : مهمی\n",
      "word 12 : وجود\n",
      "word 13 : ندار\n",
      "word 14 : .\n",
      "word 15 : این\n",
      "word 16 : متن\n",
      "word 17 : به\n",
      "word 18 : هیچ\n",
      "word 19 : دردی\n",
      "word 20 : نمی\n",
      "word 21 : خورد\n",
      "word 22 : .\n"
     ]
    }
   ],
   "source": [
    "from hazm import WordTokenizer\n",
    "\n",
    "persian_word_tokenizer = WordTokenizer()\n",
    "words_tokens = persian_word_tokenizer.tokenize(persan_text)\n",
    "for i in range(len(words_tokens)):\n",
    "    print (f\"word {i} : {words_tokens[i]}\")"
   ]
  }
 ],
 "metadata": {
  "kernelspec": {
   "display_name": "Python 3 (ipykernel)",
   "language": "python",
   "name": "python3"
  },
  "language_info": {
   "codemirror_mode": {
    "name": "ipython",
    "version": 3
   },
   "file_extension": ".py",
   "mimetype": "text/x-python",
   "name": "python",
   "nbconvert_exporter": "python",
   "pygments_lexer": "ipython3",
   "version": "3.11.6"
  }
 },
 "nbformat": 4,
 "nbformat_minor": 5
}
