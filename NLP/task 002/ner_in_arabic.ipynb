{
  "nbformat": 4,
  "nbformat_minor": 0,
  "metadata": {
    "colab": {
      "provenance": []
    },
    "kernelspec": {
      "name": "python3",
      "display_name": "Python 3"
    },
    "language_info": {
      "name": "python"
    }
  },
  "cells": [
    {
      "cell_type": "markdown",
      "source": [
        "# NER for arabic"
      ],
      "metadata": {
        "id": "hm9eVKFFqPna"
      }
    },
    {
      "cell_type": "markdown",
      "source": [
        "### model 1\n",
        "https://huggingface.co/CAMeL-Lab/bert-base-arabic-camelbert-msa-ner"
      ],
      "metadata": {
        "id": "f-rnazdIqiaL"
      }
    },
    {
      "cell_type": "markdown",
      "source": [
        "load model"
      ],
      "metadata": {
        "id": "vDi4jWkuq3m4"
      }
    },
    {
      "cell_type": "code",
      "execution_count": 1,
      "metadata": {
        "colab": {
          "base_uri": "https://localhost:8080/"
        },
        "id": "eBVFOxBLqEaW",
        "outputId": "f50148cb-1414-4689-97c8-5498ff463018"
      },
      "outputs": [
        {
          "output_type": "stream",
          "name": "stderr",
          "text": [
            "/usr/local/lib/python3.10/dist-packages/huggingface_hub/utils/_token.py:89: UserWarning: \n",
            "The secret `HF_TOKEN` does not exist in your Colab secrets.\n",
            "To authenticate with the Hugging Face Hub, create a token in your settings tab (https://huggingface.co/settings/tokens), set it as secret in your Google Colab and restart your session.\n",
            "You will be able to reuse this secret in all of your notebooks.\n",
            "Please note that authentication is recommended but still optional to access public models or datasets.\n",
            "  warnings.warn(\n",
            "Some weights of the model checkpoint at CAMeL-Lab/bert-base-arabic-camelbert-msa-ner were not used when initializing BertForTokenClassification: ['bert.pooler.dense.bias', 'bert.pooler.dense.weight']\n",
            "- This IS expected if you are initializing BertForTokenClassification from the checkpoint of a model trained on another task or with another architecture (e.g. initializing a BertForSequenceClassification model from a BertForPreTraining model).\n",
            "- This IS NOT expected if you are initializing BertForTokenClassification from the checkpoint of a model that you expect to be exactly identical (initializing a BertForSequenceClassification model from a BertForSequenceClassification model).\n"
          ]
        }
      ],
      "source": [
        "#!pip install camel_tools\n",
        "from camel_tools.ner import NERecognizer\n",
        "from camel_tools.tokenizers.word import simple_word_tokenize\n",
        "ner = NERecognizer('CAMeL-Lab/bert-base-arabic-camelbert-msa-ner')"
      ]
    },
    {
      "cell_type": "markdown",
      "source": [
        "use model"
      ],
      "metadata": {
        "id": "lnOEqUQ3q5x0"
      }
    },
    {
      "cell_type": "code",
      "source": [
        "text = \"\"\"سافر ليلى إلى مدينة فاس لزيارة أختها سارة تجولت ليلى في شوارع المدينة القديمة وقد أعجبت بجمالها وتاريخها بعد ذلك سافرت إلى مدينة مراكش لمشاهدة السوق المشهور والقصر الجميل\"\"\"\n",
        "\n",
        "sentence = simple_word_tokenize(text)\n",
        "doc = ner.predict_sentence(sentence)\n"
      ],
      "metadata": {
        "id": "IjwayJxyq9Nd"
      },
      "execution_count": 2,
      "outputs": []
    },
    {
      "cell_type": "code",
      "source": [
        "\n",
        "for tag , word in zip(doc, sentence):\n",
        "    print(\"word : {0:20} , tag : \".format(word), tag)"
      ],
      "metadata": {
        "colab": {
          "base_uri": "https://localhost:8080/"
        },
        "id": "tr0EduI4wnxK",
        "outputId": "32dfd679-b4d8-4955-b9be-2aefa984762e"
      },
      "execution_count": 3,
      "outputs": [
        {
          "output_type": "stream",
          "name": "stdout",
          "text": [
            "word : سافر                 , tag :  O\n",
            "word : ليلى                 , tag :  B-PERS\n",
            "word : إلى                  , tag :  O\n",
            "word : مدينة                , tag :  O\n",
            "word : فاس                  , tag :  B-LOC\n",
            "word : لزيارة               , tag :  O\n",
            "word : أختها                , tag :  O\n",
            "word : سارة                 , tag :  B-PERS\n",
            "word : تجولت                , tag :  O\n",
            "word : ليلى                 , tag :  B-PERS\n",
            "word : في                   , tag :  O\n",
            "word : شوارع                , tag :  O\n",
            "word : المدينة              , tag :  O\n",
            "word : القديمة              , tag :  O\n",
            "word : وقد                  , tag :  O\n",
            "word : أعجبت                , tag :  O\n",
            "word : بجمالها              , tag :  O\n",
            "word : وتاريخها             , tag :  O\n",
            "word : بعد                  , tag :  O\n",
            "word : ذلك                  , tag :  O\n",
            "word : سافرت                , tag :  O\n",
            "word : إلى                  , tag :  O\n",
            "word : مدينة                , tag :  O\n",
            "word : مراكش                , tag :  B-LOC\n",
            "word : لمشاهدة              , tag :  O\n",
            "word : السوق                , tag :  O\n",
            "word : المشهور              , tag :  O\n",
            "word : والقصر               , tag :  O\n",
            "word : الجميل               , tag :  O\n"
          ]
        }
      ]
    }
  ]
}